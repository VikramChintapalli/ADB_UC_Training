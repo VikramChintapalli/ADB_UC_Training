{
 "cells": [
  {
   "cell_type": "markdown",
   "metadata": {
    "application/vnd.databricks.v1+cell": {
     "cellMetadata": {},
     "inputWidgets": {},
     "nuid": "95bbd605-2cd0-4cc4-9f22-0ab5f824290e",
     "showTitle": false,
     "tableResultSettingsMap": {},
     "title": ""
    }
   },
   "source": [
    "### this is perform Git pull request"
   ]
  },
  {
   "cell_type": "code",
   "execution_count": 0,
   "metadata": {
    "application/vnd.databricks.v1+cell": {
     "cellMetadata": {
      "byteLimit": 2048000,
      "rowLimit": 10000
     },
     "inputWidgets": {},
     "nuid": "9762f777-e854-4da1-b4f6-77f6ca4ff7f2",
     "showTitle": false,
     "tableResultSettingsMap": {},
     "title": ""
    }
   },
   "outputs": [],
   "source": [
    "df=spark.read.option('Header',True).csv(\"/mnt/de-mount/input/circuits.csv\")"
   ]
  },
  {
   "cell_type": "code",
   "execution_count": 0,
   "metadata": {
    "application/vnd.databricks.v1+cell": {
     "cellMetadata": {
      "byteLimit": 2048000,
      "rowLimit": 10000
     },
     "inputWidgets": {},
     "nuid": "3c358b28-91ba-4dce-a394-d440c47e51d0",
     "showTitle": true,
     "tableResultSettingsMap": {},
     "title": "select"
    }
   },
   "outputs": [],
   "source": [
    "df_select = df.select(\"circuitId\",\"name\",\"location\")"
   ]
  },
  {
   "cell_type": "code",
   "execution_count": 0,
   "metadata": {
    "application/vnd.databricks.v1+cell": {
     "cellMetadata": {
      "byteLimit": 2048000,
      "rowLimit": 10000
     },
     "inputWidgets": {},
     "nuid": "ecb18fe2-dd59-403d-b6e8-8a261db774c2",
     "showTitle": false,
     "tableResultSettingsMap": {},
     "title": ""
    }
   },
   "outputs": [],
   "source": [
    "import pyspark.sql.functions as F\n",
    "df_select1 = df.withColumn(\"valid\",F.lit(\"True\"))"
   ]
  },
  {
   "cell_type": "code",
   "execution_count": 0,
   "metadata": {
    "application/vnd.databricks.v1+cell": {
     "cellMetadata": {
      "byteLimit": 2048000,
      "rowLimit": 10000
     },
     "inputWidgets": {},
     "nuid": "0fbb6e1f-fc7c-456c-a3ff-3fb22254115d",
     "showTitle": false,
     "tableResultSettingsMap": {},
     "title": ""
    }
   },
   "outputs": [],
   "source": [
    "df_select2 = df_select1.withColumnRenamed(\"name\",\"circuit_name\").withColumnRenamed(\"location\",\"circuit_location\")"
   ]
  },
  {
   "cell_type": "code",
   "execution_count": 0,
   "metadata": {
    "application/vnd.databricks.v1+cell": {
     "cellMetadata": {
      "byteLimit": 2048000,
      "rowLimit": 10000
     },
     "inputWidgets": {},
     "nuid": "0a7dd668-8b35-4056-ac9e-2725e7ca1a3c",
     "showTitle": false,
     "tableResultSettingsMap": {},
     "title": ""
    }
   },
   "outputs": [],
   "source": [
    "df_select3 = df_select2.withColumn(\"lastModifiedDate\",F.current_date())"
   ]
  },
  {
   "cell_type": "code",
   "execution_count": 0,
   "metadata": {
    "application/vnd.databricks.v1+cell": {
     "cellMetadata": {
      "byteLimit": 2048000,
      "rowLimit": 10000
     },
     "inputWidgets": {},
     "nuid": "692c4159-6663-48a1-abee-1557abdb2756",
     "showTitle": false,
     "tableResultSettingsMap": {},
     "title": ""
    }
   },
   "outputs": [],
   "source": [
    "df_select3.display()"
   ]
  },
  {
   "cell_type": "code",
   "execution_count": 0,
   "metadata": {
    "application/vnd.databricks.v1+cell": {
     "cellMetadata": {
      "byteLimit": 2048000,
      "rowLimit": 10000
     },
     "inputWidgets": {},
     "nuid": "d70d850d-2823-4b22-9053-e079447f6569",
     "showTitle": false,
     "tableResultSettingsMap": {},
     "title": ""
    }
   },
   "outputs": [],
   "source": [
    "df_select = df.select(\"circuitId\",\"name\",\"location\").display()"
   ]
  },
  {
   "cell_type": "code",
   "execution_count": 0,
   "metadata": {
    "application/vnd.databricks.v1+cell": {
     "cellMetadata": {
      "byteLimit": 2048000,
      "rowLimit": 10000
     },
     "inputWidgets": {},
     "nuid": "a91ae4c2-bb00-4097-b928-0789e83f22e7",
     "showTitle": false,
     "tableResultSettingsMap": {},
     "title": ""
    }
   },
   "outputs": [],
   "source": [
    "df_select = df.select(df[\"circuitId\"],df[\"name\"],df[\"location\"]).display()"
   ]
  },
  {
   "cell_type": "code",
   "execution_count": 0,
   "metadata": {
    "application/vnd.databricks.v1+cell": {
     "cellMetadata": {
      "byteLimit": 2048000,
      "rowLimit": 10000
     },
     "inputWidgets": {},
     "nuid": "a278c171-c516-44ed-8961-483c2dcd988c",
     "showTitle": false,
     "tableResultSettingsMap": {},
     "title": ""
    }
   },
   "outputs": [],
   "source": [
    "from pyspark.sql.functions import col,concat,lit,count\n",
    "df_select = df.select(col(\"circuitId\"),col(\"name\").alias(\"circuitName\"),col(\"location\").alias(\"CircuitLocation\")).display()"
   ]
  },
  {
   "cell_type": "code",
   "execution_count": 0,
   "metadata": {
    "application/vnd.databricks.v1+cell": {
     "cellMetadata": {
      "byteLimit": 2048000,
      "rowLimit": 10000
     },
     "inputWidgets": {},
     "nuid": "e2932083-ae49-4ae0-8147-52676219637e",
     "showTitle": true,
     "tableResultSettingsMap": {},
     "title": "drop"
    }
   },
   "outputs": [],
   "source": [
    "\n",
    "df_circuits_modified = df_select3.withColumn(\"CircuitAddress\",concat(\"circuit_location\",lit(\",\"),\"country\")).drop(\"circuit_location\")"
   ]
  },
  {
   "cell_type": "code",
   "execution_count": 0,
   "metadata": {
    "application/vnd.databricks.v1+cell": {
     "cellMetadata": {
      "byteLimit": 2048000,
      "rowLimit": 10000
     },
     "inputWidgets": {},
     "nuid": "7903ae0d-25d7-4ee2-ae46-a2e3e8492e4c",
     "showTitle": true,
     "tableResultSettingsMap": {},
     "title": "filter/where"
    }
   },
   "outputs": [],
   "source": [
    "df_circuits_modified.filter((col(\"country\") == 'India') | (col(\"country\") == 'Australia' )).display()"
   ]
  },
  {
   "cell_type": "code",
   "execution_count": 0,
   "metadata": {
    "application/vnd.databricks.v1+cell": {
     "cellMetadata": {
      "byteLimit": 2048000,
      "rowLimit": 10000
     },
     "inputWidgets": {},
     "nuid": "6400a034-db9a-42eb-b6d8-391cde613d8e",
     "showTitle": true,
     "tableResultSettingsMap": {},
     "title": "groupBy and agg"
    }
   },
   "outputs": [],
   "source": [
    "df_circuitCount = df_circuits_modified.groupBy(col(\"country\")).agg(count(col(\"circuitId\")).alias(\"CircuitCount\"))\n",
    "df_circuitCount.display()"
   ]
  },
  {
   "cell_type": "code",
   "execution_count": 0,
   "metadata": {
    "application/vnd.databricks.v1+cell": {
     "cellMetadata": {
      "byteLimit": 2048000,
      "rowLimit": 10000
     },
     "inputWidgets": {},
     "nuid": "9cf80965-89f0-41ef-8415-dd0d032a4236",
     "showTitle": false,
     "tableResultSettingsMap": {},
     "title": ""
    }
   },
   "outputs": [],
   "source": [
    "df_races = spark.read.json(\"/mnt/de-mount/input/results.json\")\n",
    "display(df_races)"
   ]
  },
  {
   "cell_type": "code",
   "execution_count": 0,
   "metadata": {
    "application/vnd.databricks.v1+cell": {
     "cellMetadata": {
      "byteLimit": 2048000,
      "rowLimit": 10000
     },
     "inputWidgets": {},
     "nuid": "86b0f9c3-e725-4484-847c-daf345a368c1",
     "showTitle": false,
     "tableResultSettingsMap": {},
     "title": ""
    }
   },
   "outputs": [],
   "source": [
    "df_races.printSchema()"
   ]
  },
  {
   "cell_type": "code",
   "execution_count": 0,
   "metadata": {
    "application/vnd.databricks.v1+cell": {
     "cellMetadata": {
      "byteLimit": 2048000,
      "rowLimit": 10000
     },
     "inputWidgets": {},
     "nuid": "07c48d8d-49e6-47d7-920c-ecc54341caa2",
     "showTitle": false,
     "tableResultSettingsMap": {},
     "title": ""
    }
   },
   "outputs": [],
   "source": [
    "df_races1=df_races.withColumn(\"new_rank\",col(\"rank\").cast(\"long\"))"
   ]
  },
  {
   "cell_type": "code",
   "execution_count": 0,
   "metadata": {
    "application/vnd.databricks.v1+cell": {
     "cellMetadata": {
      "byteLimit": 2048000,
      "rowLimit": 10000
     },
     "inputWidgets": {},
     "nuid": "efffd08e-3e75-4aef-95dd-e7f0a6d4f26b",
     "showTitle": true,
     "tableResultSettingsMap": {},
     "title": "sort"
    }
   },
   "outputs": [],
   "source": [
    "df_races_sorted = df_races1.orderBy(col(\"raceId\").desc(),col(\"new_rank\").asc())\n",
    "df_races_sorted.display()"
   ]
  },
  {
   "cell_type": "code",
   "execution_count": 0,
   "metadata": {
    "application/vnd.databricks.v1+cell": {
     "cellMetadata": {
      "byteLimit": 2048000,
      "rowLimit": 10000
     },
     "inputWidgets": {},
     "nuid": "60f30972-3a3e-4dc3-8c59-c5a417723a1f",
     "showTitle": false,
     "tableResultSettingsMap": {},
     "title": ""
    }
   },
   "outputs": [],
   "source": [
    "from pyspark.sql import Row\n",
    "\n",
    "# Create a list of 20 unique customer records\n",
    "customers = [Row(customerId=i, name=f\"Customer_{i}\", age=20+i, city=f\"City_{i%5}\") for i in range(1, 21)]\n",
    "\n",
    "# Add 5 duplicate records\n",
    "customers.extend([Row(customerId=i, name=f\"Customer_{i}\", age=20+i, city=f\"City_{i%5}\") for i in range(1, 6)])\n",
    "\n",
    "# Create DataFrame\n",
    "df_customers = spark.createDataFrame(customers)\n",
    "\n",
    "# Display the DataFrame\n",
    "display(df_customers)"
   ]
  },
  {
   "cell_type": "code",
   "execution_count": 0,
   "metadata": {
    "application/vnd.databricks.v1+cell": {
     "cellMetadata": {
      "byteLimit": 2048000,
      "rowLimit": 10000
     },
     "inputWidgets": {},
     "nuid": "10fec0cc-02b4-489b-bb9e-d4dc10437bac",
     "showTitle": false,
     "tableResultSettingsMap": {},
     "title": ""
    }
   },
   "outputs": [],
   "source": [
    "df_customers.display()"
   ]
  },
  {
   "cell_type": "code",
   "execution_count": 0,
   "metadata": {
    "application/vnd.databricks.v1+cell": {
     "cellMetadata": {
      "byteLimit": 2048000,
      "rowLimit": 10000
     },
     "inputWidgets": {},
     "nuid": "ae4bcdc2-bc23-4bb3-a052-5930c9b4b85c",
     "showTitle": true,
     "tableResultSettingsMap": {},
     "title": "dropDuplicates/distinct"
    }
   },
   "outputs": [],
   "source": [
    "df_customers_unique= df_customers.dropDuplicates([\"name\",\"customerId\"])\n",
    "df_customers_unique.display()"
   ]
  },
  {
   "cell_type": "code",
   "execution_count": 0,
   "metadata": {
    "application/vnd.databricks.v1+cell": {
     "cellMetadata": {
      "byteLimit": 2048000,
      "rowLimit": 10000
     },
     "inputWidgets": {},
     "nuid": "d1a76f4d-0be0-4584-871c-9b75fe366e62",
     "showTitle": false,
     "tableResultSettingsMap": {},
     "title": ""
    }
   },
   "outputs": [],
   "source": [
    "df_cust_city_1 = df_customers_unique.filter(col(\"city\") == 'City_1')\n",
    "df_cust_city_2 = df_customers_unique.filter(col(\"city\") == 'City_2')"
   ]
  },
  {
   "cell_type": "code",
   "execution_count": 0,
   "metadata": {
    "application/vnd.databricks.v1+cell": {
     "cellMetadata": {
      "byteLimit": 2048000,
      "rowLimit": 10000
     },
     "inputWidgets": {},
     "nuid": "d48c0af4-c16d-4f46-a5b7-1379ddcfb95e",
     "showTitle": true,
     "tableResultSettingsMap": {},
     "title": "Union"
    }
   },
   "outputs": [],
   "source": [
    "df_cust_city1_2 = df_cust_city_1.union(df_cust_city_2)\n",
    "df_cust_city1_2.display()"
   ]
  },
  {
   "cell_type": "code",
   "execution_count": 0,
   "metadata": {
    "application/vnd.databricks.v1+cell": {
     "cellMetadata": {
      "byteLimit": 2048000,
      "rowLimit": 10000
     },
     "inputWidgets": {},
     "nuid": "12631353-29e1-4385-963a-6bac92834390",
     "showTitle": true,
     "tableResultSettingsMap": {},
     "title": "JOINS"
    }
   },
   "outputs": [],
   "source": [
    "from pyspark.sql import Row\n",
    "\n",
    "# Create employee data\n",
    "employee_data = [\n",
    "    Row(employee_id=1, manager_id=None,name=\"John Doe\", department_id=101, address=\"123 Main St\"),\n",
    "    Row(employee_id=2, manager_id=None,name=\"Jane Smith\", department_id=102, address=\"456 Elm St\"),\n",
    "    Row(employee_id=3, manager_id=None,name=\"Mike Johnson\", department_id=101, address=\"789 Oak St\"),\n",
    "    Row(employee_id=4, manager_id=None,name=\"Emily Davis\", department_id=103, address=\"321 Pine St\"),\n",
    "    Row(employee_id=5, manager_id=None,name=\"David Wilson\", department_id=102, address=\"654 Maple St\"),\n",
    "    Row(employee_id=6, manager_id=5,name=\"Sarah Brown\", department_id=101, address=\"987 Cedar St\"),\n",
    "    Row(employee_id=7, manager_id=5,name=\"Chris Lee\", department_id=103, address=\"159 Birch St\"),\n",
    "    Row(employee_id=8, manager_id=5,name=\"Anna White\", department_id=102, address=\"753 Walnut St\"),\n",
    "    Row(employee_id=9, manager_id=2,name=\"James Harris\", department_id=101, address=\"951 Chestnut St\"),\n",
    "    Row(employee_id=10,manager_id=2, name=\"Laura Clark\", department_id=103, address=\"357 Spruce St\"),\n",
    "    Row(employee_id=11,manager_id=1, name=\"Robert Lewis\", department_id=102, address=\"159 Ash St\"),\n",
    "    Row(employee_id=12,manager_id=4, name=\"Linda Walker\", department_id=101, address=\"753 Fir St\"),\n",
    "    Row(employee_id=13,manager_id=3, name=\"Michael Hall\", department_id=103, address=\"951 Redwood St\"),\n",
    "    Row(employee_id=14,manager_id=3, name=\"Elizabeth Allen\", department_id=102, address=\"357 Cypress St\"),\n",
    "    Row(employee_id=15,manager_id=3, name=\"Paul Young\", department_id=101, address=\"159 Palm St\"),\n",
    "    Row(employee_id=16,manager_id=2, name=\"Nancy King\", department_id=103, address=\"753 Willow St\"),\n",
    "    Row(employee_id=17,manager_id=1, name=\"Mark Wright\", department_id=102, address=\"951 Poplar St\"),\n",
    "    Row(employee_id=18,manager_id=1, name=\"Susan Scott\", department_id=101, address=\"357 Magnolia St\"),\n",
    "    Row(employee_id=19,manager_id=1, name=\"Steven Green\", department_id=103, address=\"159 Dogwood St\"),\n",
    "    Row(employee_id=20,manager_id=4, name=\"Karen Adams\", department_id=102, address=\"753 Hickory St\"),\n",
    "    Row(employee_id=21,manager_id=4, name=\"Vikram\", department_id=104, address=\"753 Hickory St\"),\n",
    "    Row(employee_id=22,manager_id=4, name=\"Harsha\", department_id=104, address=\"753 Hickory St\"),\n",
    "    \n",
    "]\n",
    "\n",
    "# Create department data\n",
    "department_data = [\n",
    "    Row(department_id=101, department_name=\"HR\"),\n",
    "    Row(department_id=102, department_name=\"Finance\"),\n",
    "    Row(department_id=103, department_name=\"Engineering\"),\n",
    "    Row(department_id=105, department_name=\"CustomerSuport\"),\n",
    "    Row(department_id=106, department_name=\"Operations\")\n",
    "]\n",
    "\n",
    "# Create DataFrames\n",
    "df_employees = spark.createDataFrame(employee_data)\n",
    "df_departments = spark.createDataFrame(department_data)\n",
    "\n",
    "# Display DataFrames\n",
    "display(df_employees)\n",
    "display(df_departments)"
   ]
  },
  {
   "cell_type": "code",
   "execution_count": 0,
   "metadata": {
    "application/vnd.databricks.v1+cell": {
     "cellMetadata": {
      "byteLimit": 2048000,
      "rowLimit": 10000
     },
     "inputWidgets": {},
     "nuid": "d76106bc-b2d6-47cb-b54e-81799ad185da",
     "showTitle": true,
     "tableResultSettingsMap": {},
     "title": "inner join"
    }
   },
   "outputs": [],
   "source": [
    "df_inner = df_employees.join(df_departments,on=\"department_id\",how=\"inner\")\n",
    "df_inner.display()"
   ]
  },
  {
   "cell_type": "code",
   "execution_count": 0,
   "metadata": {
    "application/vnd.databricks.v1+cell": {
     "cellMetadata": {
      "byteLimit": 2048000,
      "rowLimit": 10000
     },
     "inputWidgets": {},
     "nuid": "3bb30714-6814-4746-9248-c44312dd56c6",
     "showTitle": false,
     "tableResultSettingsMap": {},
     "title": ""
    }
   },
   "outputs": [],
   "source": [
    "df_inner_result = df_employees.join(df_departments,df_employees.department_id == df_departments.department_id,\"inner\")\n",
    "df_inner_result.display()"
   ]
  },
  {
   "cell_type": "code",
   "execution_count": 0,
   "metadata": {
    "application/vnd.databricks.v1+cell": {
     "cellMetadata": {
      "byteLimit": 2048000,
      "rowLimit": 10000
     },
     "inputWidgets": {},
     "nuid": "f43ac382-fb2e-4fb3-8c96-3d30e1c5fed2",
     "showTitle": true,
     "tableResultSettingsMap": {},
     "title": "full outer"
    }
   },
   "outputs": [],
   "source": [
    "df_outer_result = df_employees.join(df_departments,df_employees.department_id == df_departments.department_id,\"outer\")\n",
    "df_outer_result.display()"
   ]
  },
  {
   "cell_type": "code",
   "execution_count": 0,
   "metadata": {
    "application/vnd.databricks.v1+cell": {
     "cellMetadata": {
      "byteLimit": 2048000,
      "rowLimit": 10000
     },
     "inputWidgets": {},
     "nuid": "28f9e3ce-6e1f-478d-a049-15e332e3d78f",
     "showTitle": true,
     "tableResultSettingsMap": {},
     "title": "left join"
    }
   },
   "outputs": [],
   "source": [
    "df_left_result = df_employees.join(df_departments,df_employees.department_id == df_departments.department_id,\"left\")\n",
    "df_left_result.display()"
   ]
  },
  {
   "cell_type": "code",
   "execution_count": 0,
   "metadata": {
    "application/vnd.databricks.v1+cell": {
     "cellMetadata": {
      "byteLimit": 2048000,
      "rowLimit": 10000
     },
     "inputWidgets": {},
     "nuid": "4d65bde6-dbcd-43f4-b5f1-207fad914773",
     "showTitle": false,
     "tableResultSettingsMap": {},
     "title": ""
    }
   },
   "outputs": [],
   "source": [
    "df_right_result = df_employees.join(df_departments,df_employees.department_id == df_departments.department_id,\"right\")\n",
    "df_right_result.display()"
   ]
  },
  {
   "cell_type": "code",
   "execution_count": 0,
   "metadata": {
    "application/vnd.databricks.v1+cell": {
     "cellMetadata": {
      "byteLimit": 2048000,
      "rowLimit": 10000
     },
     "inputWidgets": {},
     "nuid": "d5c7589c-ad7e-4de0-a0a1-476e9d4f9776",
     "showTitle": true,
     "tableResultSettingsMap": {},
     "title": "cross"
    }
   },
   "outputs": [],
   "source": [
    "df_cross_result = df_employees.crossJoin(df_departments)\n",
    "df_cross_result.display()"
   ]
  },
  {
   "cell_type": "code",
   "execution_count": 0,
   "metadata": {
    "application/vnd.databricks.v1+cell": {
     "cellMetadata": {
      "byteLimit": 2048000,
      "rowLimit": 10000
     },
     "inputWidgets": {},
     "nuid": "06cdfb9b-bb5a-4178-919e-8c5f9cabcbea",
     "showTitle": true,
     "tableResultSettingsMap": {},
     "title": "left_semi"
    }
   },
   "outputs": [],
   "source": [
    "#always correlate with inner join not left join\n",
    "df_left_semi_result = df_employees.join(df_departments,df_employees.department_id == df_departments.department_id,\"left_semi\")\n",
    "df_left_semi_result.display()"
   ]
  },
  {
   "cell_type": "code",
   "execution_count": 0,
   "metadata": {
    "application/vnd.databricks.v1+cell": {
     "cellMetadata": {
      "byteLimit": 2048000,
      "rowLimit": 10000
     },
     "inputWidgets": {},
     "nuid": "bf2cc850-56b0-457c-ab2f-2b89eae4be2c",
     "showTitle": true,
     "tableResultSettingsMap": {},
     "title": "left_anti"
    }
   },
   "outputs": [],
   "source": [
    "df_left_anti_result = df_employees.join(df_departments,df_employees.department_id == df_departments.department_id,\"left_anti\")\n",
    "df_left_anti_result.display()"
   ]
  },
  {
   "cell_type": "code",
   "execution_count": 0,
   "metadata": {
    "application/vnd.databricks.v1+cell": {
     "cellMetadata": {
      "byteLimit": 2048000,
      "rowLimit": 10000
     },
     "inputWidgets": {},
     "nuid": "8ea2c3c1-49f9-40b1-a270-85c6649ddd68",
     "showTitle": false,
     "tableResultSettingsMap": {},
     "title": ""
    }
   },
   "outputs": [],
   "source": [
    "df_employees.createOrReplaceTempView(\"temp_employee\")\n",
    "df_departments.createOrReplaceTempView(\"temp_department\")"
   ]
  },
  {
   "cell_type": "code",
   "execution_count": 0,
   "metadata": {
    "application/vnd.databricks.v1+cell": {
     "cellMetadata": {
      "byteLimit": 2048000,
      "rowLimit": 10000
     },
     "inputWidgets": {},
     "nuid": "3650c353-755b-4f7b-963f-6b07ec23d6bd",
     "showTitle": false,
     "tableResultSettingsMap": {},
     "title": ""
    }
   },
   "outputs": [],
   "source": [
    "df_join_result = spark.sql(\"\"\"select * from temp_employee a join temp_department\n",
    "                            b on a.department_id=b.department_id\"\"\")\n",
    "\n",
    "df_join_result.display()"
   ]
  },
  {
   "cell_type": "code",
   "execution_count": 0,
   "metadata": {
    "application/vnd.databricks.v1+cell": {
     "cellMetadata": {
      "byteLimit": 2048000,
      "rowLimit": 10000
     },
     "inputWidgets": {},
     "nuid": "5764eb59-04ea-4237-a6c4-d9c66ce565bb",
     "showTitle": true,
     "tableResultSettingsMap": {},
     "title": "Global views"
    }
   },
   "outputs": [],
   "source": [
    "#to access global view we need to prefix with  schema global_temp.\n",
    "df_employees.createOrReplaceGlobalTempView(\"temp_g_employee\")\n",
    "df_departments.createOrReplaceGlobalTempView(\"temp_g_department\")"
   ]
  },
  {
   "cell_type": "code",
   "execution_count": 0,
   "metadata": {
    "application/vnd.databricks.v1+cell": {
     "cellMetadata": {
      "byteLimit": 2048000,
      "implicitDf": true,
      "rowLimit": 10000
     },
     "inputWidgets": {},
     "nuid": "a3d19a57-66fd-4244-9ecf-1bea0bf0aae4",
     "showTitle": false,
     "tableResultSettingsMap": {},
     "title": ""
    }
   },
   "outputs": [],
   "source": [
    "%sql\n",
    "\n",
    "select * from temp_employee"
   ]
  },
  {
   "cell_type": "code",
   "execution_count": 0,
   "metadata": {
    "application/vnd.databricks.v1+cell": {
     "cellMetadata": {
      "byteLimit": 2048000,
      "implicitDf": true,
      "rowLimit": 10000
     },
     "inputWidgets": {},
     "nuid": "5fdbea54-b3ff-41dc-baa0-2a1828e32b7b",
     "showTitle": false,
     "tableResultSettingsMap": {},
     "title": ""
    }
   },
   "outputs": [],
   "source": [
    "%sql\n",
    "\n",
    "select * from global_temp.temp_g_employee"
   ]
  },
  {
   "cell_type": "code",
   "execution_count": 0,
   "metadata": {
    "application/vnd.databricks.v1+cell": {
     "cellMetadata": {
      "byteLimit": 2048000,
      "rowLimit": 10000
     },
     "inputWidgets": {},
     "nuid": "4f076d9f-a247-40bf-99a4-5fd49dbb3c44",
     "showTitle": false,
     "tableResultSettingsMap": {},
     "title": ""
    }
   },
   "outputs": [],
   "source": [
    "from pyspark.sql.functions import lower\n",
    "\n",
    "sample_data = [(1, \"Alice John\",35,\"F\"), (2, \"Bob Robin\",49,\"M\"), (3, \"Charlie Chaplin\",70,\"M\")]\n",
    "columns = [\"sno\", \"Name\",\"Age\",\"Gender\"]\n",
    "df_sample = spark.createDataFrame(sample_data, columns)\n",
    "df_sno_name = df_sample.select(\"sno\", lower(\"Name\").alias(\"Name\"),\"Age\",\"Gender\")\n",
    "display(df_sno_name)"
   ]
  },
  {
   "cell_type": "code",
   "execution_count": 0,
   "metadata": {
    "application/vnd.databricks.v1+cell": {
     "cellMetadata": {
      "byteLimit": 2048000,
      "rowLimit": 10000
     },
     "inputWidgets": {},
     "nuid": "0f4cd902-cc5d-4d8f-8c43-b9c424585538",
     "showTitle": true,
     "tableResultSettingsMap": {},
     "title": "UDF"
    }
   },
   "outputs": [],
   "source": [
    "def convertCase(str):\n",
    "    resStr=\"\"\n",
    "    arr = str.split(\" \")\n",
    "    for x in arr:\n",
    "        resStr = resStr + x[0:1].upper() + x[1:len(x)] + \" \"\n",
    "    return resStr"
   ]
  },
  {
   "cell_type": "code",
   "execution_count": 0,
   "metadata": {
    "application/vnd.databricks.v1+cell": {
     "cellMetadata": {
      "byteLimit": 2048000,
      "rowLimit": 10000
     },
     "inputWidgets": {},
     "nuid": "c67f629b-481b-463a-ad7e-2c1bc491200a",
     "showTitle": true,
     "tableResultSettingsMap": {},
     "title": "UDF"
    }
   },
   "outputs": [],
   "source": [
    "from pyspark.sql.functions import col,udf,when\n",
    "from pyspark.sql.types import StringType\n",
    "\n",
    "#regestiring the python function as UDF\n",
    "\n",
    "convertUDF = udf(lambda z: convertCase(z),StringType())"
   ]
  },
  {
   "cell_type": "code",
   "execution_count": 0,
   "metadata": {
    "application/vnd.databricks.v1+cell": {
     "cellMetadata": {
      "byteLimit": 2048000,
      "rowLimit": 10000
     },
     "inputWidgets": {},
     "nuid": "3bbfed1a-ad63-496c-a4aa-462fff3dc6d2",
     "showTitle": true,
     "tableResultSettingsMap": {},
     "title": "Applying/Using UDF"
    }
   },
   "outputs": [],
   "source": [
    "print(\"with out applying udf :\")\n",
    "df_sno_name.display()\n",
    "print(\"After applying udf :\")\n",
    "df_sno_name.select(col(\"sno\"),convertUDF(col(\"Name\")).alias(\"Name\")).display()"
   ]
  },
  {
   "cell_type": "code",
   "execution_count": 0,
   "metadata": {
    "application/vnd.databricks.v1+cell": {
     "cellMetadata": {
      "byteLimit": 2048000,
      "rowLimit": 10000
     },
     "inputWidgets": {},
     "nuid": "3c59bb6a-6a09-49af-b798-385946cc9c81",
     "showTitle": true,
     "tableResultSettingsMap": {},
     "title": "Alternate way for registering UDF"
    }
   },
   "outputs": [],
   "source": [
    "@udf(returnType=StringType())\n",
    "def upperCase(str):\n",
    "    return str.upper()"
   ]
  },
  {
   "cell_type": "code",
   "execution_count": 0,
   "metadata": {
    "application/vnd.databricks.v1+cell": {
     "cellMetadata": {
      "byteLimit": 2048000,
      "rowLimit": 10000
     },
     "inputWidgets": {},
     "nuid": "44c6d3e8-1de1-4892-b0be-a46dc1618b4c",
     "showTitle": true,
     "tableResultSettingsMap": {},
     "title": "UDF with withColumn"
    }
   },
   "outputs": [],
   "source": [
    "df_sno_name.withColumn(\"upperCase_name\",upperCase(col(\"Name\"))).display()"
   ]
  },
  {
   "cell_type": "code",
   "execution_count": 0,
   "metadata": {
    "application/vnd.databricks.v1+cell": {
     "cellMetadata": {
      "byteLimit": 2048000,
      "rowLimit": 10000
     },
     "inputWidgets": {},
     "nuid": "73610898-7e82-46d1-bd18-e61d1164a226",
     "showTitle": false,
     "tableResultSettingsMap": {},
     "title": ""
    }
   },
   "outputs": [],
   "source": [
    "df_sno_name.withColumn(\"Gender_abv\",when(col(\"Gender\") == \"M\",\"Male\")\n",
    "                                    .when(col(\"Gender\") == \"F\",\"Female\")\n",
    "                                    .otherwise(col(\"Gender\"))).display()"
   ]
  }
 ],
 "metadata": {
  "application/vnd.databricks.v1+notebook": {
   "computePreferences": null,
   "dashboards": [],
   "environmentMetadata": {
    "base_environment": "",
    "environment_version": "2"
   },
   "inputWidgetPreferences": null,
   "language": "python",
   "notebookMetadata": {
    "mostRecentlyExecutedCommandWithImplicitDF": {
     "commandId": 4558107429123994,
     "dataframes": [
      "_sqldf"
     ]
    },
    "pythonIndentUnit": 4
   },
   "notebookName": "Transformations",
   "widgets": {}
  },
  "language_info": {
   "name": "python"
  }
 },
 "nbformat": 4,
 "nbformat_minor": 0
}
