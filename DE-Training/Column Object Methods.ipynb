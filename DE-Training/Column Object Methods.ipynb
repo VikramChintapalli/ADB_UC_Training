{
 "cells": [
  {
   "cell_type": "code",
   "execution_count": 0,
   "metadata": {
    "application/vnd.databricks.v1+cell": {
     "cellMetadata": {
      "byteLimit": 2048000,
      "implicitDf": true,
      "rowLimit": 10000
     },
     "inputWidgets": {},
     "nuid": "10e387fa-8c0b-404f-bfd5-c60e699ec585",
     "showTitle": false,
     "tableResultSettingsMap": {},
     "title": ""
    }
   },
   "outputs": [],
   "source": [
    "from pyspark.sql import SparkSession\n",
    "from pyspark.sql.types import StructType, StructField, StringType, IntegerType, BooleanType, ArrayType, MapType, DoubleType\n",
    "from pyspark.sql.functions import col, lit, array_contains, expr # Importing col and lit for demonstrations, and other functions as needed\n",
    "\n",
    "# 1. Initialize Spark Session\n",
    "#    This is the entry point to any Spark functionality.\n",
    "spark = SparkSession.builder \\\n",
    "    .appName(\"PySpark Column Functions Demo\") \\\n",
    "    .getOrCreate()\n",
    "\n",
    "print(\"--- Initializing Spark Session ---\")\n",
    "\n",
    "# 2. Create a Sample DataFrame\n",
    "#    We'll create a DataFrame with various data types to demonstrate different Column methods.\n",
    "schema = StructType([\n",
    "    StructField(\"id\", IntegerType(), True),\n",
    "    StructField(\"product_name\", StringType(), True),\n",
    "    StructField(\"category\", StringType(), True),\n",
    "    StructField(\"price\", DoubleType(), True),\n",
    "    StructField(\"quantity\", IntegerType(), True),\n",
    "    StructField(\"is_available\", BooleanType(), True),\n",
    "    StructField(\"tags\", ArrayType(StringType()), True),\n",
    "    StructField(\"attributes\", MapType(StringType(), StringType()), True),\n",
    "    StructField(\"description\", StringType(), True)\n",
    "])\n",
    "\n",
    "data = [\n",
    "    (1, \"Laptop Pro\", \"Electronics\", 1200.50, 5, True, [\"tech\", \"portable\"], {\"brand\": \"ABC\", \"color\": \"silver\"}, \"High-performance laptop for professionals.\"),\n",
    "    (2, \"Smartphone X\", \"Electronics\", 800.00, 10, True, [\"mobile\", \"camera\"], {\"brand\": \"XYZ\", \"os\": \"Android\"}, \"Latest smartphone with advanced features.\"),\n",
    "    (3, \"Wireless Mouse\", \"Accessories\", 25.99, 50, True, [\"peripheral\"], {\"type\": \"optical\", \"connection\": \"bluetooth\"}, \"Ergonomic wireless mouse.\"),\n",
    "    (4, \"USB-C Hub\", \"Accessories\", 49.99, 20, False, [\"connectivity\"], {\"ports\": \"4\", \"version\": \"3.0\"}, None), # Null description\n",
    "    (5, \"Mechanical Keyboard\", \"Accessories\", 150.00, None, True, [\"gaming\"], {\"layout\": \"US\", \"switches\": \"blue\"}, \"Gaming keyboard with tactile feedback.\"), # Null quantity\n",
    "    (6, \"External SSD\", \"Storage\", 180.00, 15, True, [\"storage\"], {\"capacity\": \"1TB\"}, \"Fast external solid-state drive.\"),\n",
    "    (7, \"Smart Watch Lite\", \"Wearables\", 299.99, 8, False, [\"health\"], {\"brand\": \"FitPro\"}, \"Basic smartwatch for fitness tracking.\"),\n",
    "    (8, \"Headphones ANC\", \"Audio\", 220.00, 12, True, [\"audio\", \"noise-cancelling\"], {\"type\": \"over-ear\"}, \"Premium headphones with active noise cancellation.\")\n",
    "]\n",
    "\n",
    "df = spark.createDataFrame(data, schema)"
   ]
  },
  {
   "cell_type": "code",
   "execution_count": 0,
   "metadata": {
    "application/vnd.databricks.v1+cell": {
     "cellMetadata": {
      "byteLimit": 2048000,
      "rowLimit": 10000
     },
     "inputWidgets": {},
     "nuid": "7dd02212-bd82-4e72-b738-e06936baac22",
     "showTitle": false,
     "tableResultSettingsMap": {},
     "title": ""
    }
   },
   "outputs": [],
   "source": [
    "df.display()"
   ]
  },
  {
   "cell_type": "code",
   "execution_count": 0,
   "metadata": {
    "application/vnd.databricks.v1+cell": {
     "cellMetadata": {
      "byteLimit": 2048000,
      "rowLimit": 10000
     },
     "inputWidgets": {},
     "nuid": "f62151df-d7bc-432c-926b-9673eb86dfa6",
     "showTitle": false,
     "tableResultSettingsMap": {},
     "title": ""
    }
   },
   "outputs": [],
   "source": [
    "df.printSchema()"
   ]
  },
  {
   "cell_type": "code",
   "execution_count": 0,
   "metadata": {
    "application/vnd.databricks.v1+cell": {
     "cellMetadata": {
      "byteLimit": 2048000,
      "rowLimit": 10000
     },
     "inputWidgets": {},
     "nuid": "fc57bd7f-521e-4e81-9782-5262feedaf11",
     "showTitle": false,
     "tableResultSettingsMap": {},
     "title": ""
    }
   },
   "outputs": [],
   "source": [
    "#arithmetic\n",
    "df_arthematic = df.withColumn(\"orderValue\",col(\"price\") * col(\"quantity\")).withColumn(\"taxedPrice\",col(\"price\")* 1.08)\n",
    "df_arthematic.display()"
   ]
  },
  {
   "cell_type": "code",
   "execution_count": 0,
   "metadata": {
    "application/vnd.databricks.v1+cell": {
     "cellMetadata": {
      "byteLimit": 2048000,
      "rowLimit": 10000
     },
     "inputWidgets": {},
     "nuid": "54996311-be9b-41f1-bba2-bfde334e380c",
     "showTitle": false,
     "tableResultSettingsMap": {},
     "title": ""
    }
   },
   "outputs": [],
   "source": [
    "#comparison operations\n",
    "\n",
    "df_comparison = df.filter(col(\"price\")>200)\\\n",
    "                  .filter(col(\"is_available\") == True)\\\n",
    "                  .filter(col(\"category\").isin(\"Electronics\",\"Wearables\"))\\\n",
    "                  .filter((col(\"price\").between(200,800)))\n",
    "df_comparison.display()\n",
    "#df.display()"
   ]
  },
  {
   "cell_type": "code",
   "execution_count": 0,
   "metadata": {
    "application/vnd.databricks.v1+cell": {
     "cellMetadata": {
      "byteLimit": 2048000,
      "rowLimit": 10000
     },
     "inputWidgets": {},
     "nuid": "7d6bb529-9ae7-40b2-b1bb-f324e17874ac",
     "showTitle": false,
     "tableResultSettingsMap": {},
     "title": ""
    }
   },
   "outputs": [],
   "source": [
    "#eqNullSafe\n",
    "\n",
    "df_eq_null_safe =df.withColumn(\"eq_desc\",col(\"description\").eqNullSafe(lit(None))).display()"
   ]
  },
  {
   "cell_type": "code",
   "execution_count": 0,
   "metadata": {
    "application/vnd.databricks.v1+cell": {
     "cellMetadata": {
      "byteLimit": 2048000,
      "rowLimit": 10000
     },
     "inputWidgets": {},
     "nuid": "b3668f23-d2ac-4c85-bb18-7a85710f187c",
     "showTitle": false,
     "tableResultSettingsMap": {},
     "title": ""
    }
   },
   "outputs": [],
   "source": [
    "#eqNullSafe\n",
    "\n",
    "df.select(df[\"id\"],df[\"id\"].isNull()).display()"
   ]
  }
 ],
 "metadata": {
  "application/vnd.databricks.v1+notebook": {
   "computePreferences": null,
   "dashboards": [],
   "environmentMetadata": {
    "base_environment": "",
    "environment_version": "2"
   },
   "inputWidgetPreferences": null,
   "language": "python",
   "notebookMetadata": {
    "mostRecentlyExecutedCommandWithImplicitDF": {
     "commandId": -1,
     "dataframes": [
      "_sqldf"
     ]
    },
    "pythonIndentUnit": 4
   },
   "notebookName": "Column Object Methods",
   "widgets": {}
  },
  "language_info": {
   "name": "python"
  }
 },
 "nbformat": 4,
 "nbformat_minor": 0
}
